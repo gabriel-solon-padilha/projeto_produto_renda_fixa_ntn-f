{
 "cells": [
  {
   "cell_type": "markdown",
   "metadata": {},
   "source": [
    "constroi_fluxo(dt_fim, frequencia) # Adicionar parametro de dt_ini\n",
    "\n",
    "    - - Retorna: Lista de datas dos fluxos (list datetime.date)\n",
    "\n",
    "calcula_pu(VF, prazo_anual, taxa_anual)\n",
    "\n",
    "    - - Retorna pu (float)\n",
    "\n",
    "calcula_taxa_anual(PU, prazo_anual, valor_base=100) # Valor_base é igual ao VF\n",
    "\n",
    "    - - Retorna: taxa_anual (float)\n",
    "\n",
    "calcula_pu_ntnf(dt_venc, dt_base, tir) \\*\n",
    "\n",
    "    - - Retorna: pu (float)\n",
    "    - Imprime tabela com o cashflow (Data do fluxo, VF, DU, Fator de desconto, PU)\n"
   ]
  },
  {
   "cell_type": "markdown",
   "metadata": {},
   "source": [
    "## Funções auxiliares, tipagem, e outros\n"
   ]
  },
  {
   "cell_type": "code",
   "execution_count": 328,
   "metadata": {},
   "outputs": [],
   "source": [
    "import datetime as dt\n",
    "from typing import Literal, get_args\n",
    "\n",
    "import numpy as np\n",
    "import pandas as pd\n",
    "\n",
    "# Tipagem\n",
    "Convencao = Literal[252, 360]\n",
    "Frequencia = Literal[\n",
    "    \"B\",\n",
    "    \"C\",\n",
    "    \"D\",\n",
    "    \"W\",\n",
    "    \"M\",\n",
    "    \"SM\",\n",
    "    \"BM\",\n",
    "    \"CBM\",\n",
    "    \"MS\",\n",
    "    \"SMS\",\n",
    "    \"BMS\",\n",
    "    \"CBMS\",\n",
    "    \"Q\",\n",
    "    \"BQ\",\n",
    "    \"QS\",\n",
    "    \"BQS\",\n",
    "    \"H\",\n",
    "    \"S\",\n",
    "    \"N\",\n",
    "]\n",
    "\n",
    "\n",
    "feriados = pd.read_csv(\n",
    "    \"feriados/feriados_nacionais.xlsx - Plan1.csv\",\n",
    "    skiprows=list(range(936, 947)),\n",
    "    usecols=[0],\n",
    ")\n",
    "feriados_datas = pd.to_datetime(feriados[\"Data\"], format=\"%m/%d/%Y\").values.astype(\n",
    "    \"datetime64[D]\"\n",
    ")\n",
    "\n",
    "\n",
    "def fazTeste(valor_esperado, valor_real) -> bool:\n",
    "    \"\"\"Compara um valor esperado e um valor real\n",
    "    valor_esperado: any\n",
    "    valor_real: any\n",
    "\n",
    "    retorno:\n",
    "    True -> valor_esperado == valor_real\n",
    "    False -> valor_esperado != valor_real\n",
    "    \"\"\"\n",
    "\n",
    "    # Caso especial, se forem dois dataframes\n",
    "    if isinstance(valor_esperado,pd.DataFrame) and isinstance(valor_real, pd.DataFrame):\n",
    "        sucesso = len(valor_esperado.compare(valor_real)) == 0\n",
    "    else:\n",
    "        sucesso = valor_esperado == valor_real\n",
    "    \n",
    "\n",
    "    if sucesso:\n",
    "        print(\"Teste sucedido!\")\n",
    "        return True\n",
    "        \n",
    "    print(\"Teste falhou!\")\n",
    "    print(f\"Esperava: {valor_esperado}\")\n",
    "    print(f\"Recebeu: {valor_real}\")\n",
    "    return False\n",
    "\n",
    "\n",
    "\n",
    "\n",
    "def arredonda(num: float, casas: int = 2) -> float:\n",
    "    pot10 = 10**casas\n",
    "    return round(num * pot10) / pot10\n",
    "\n",
    "\n",
    "def converte_str_em_data(datestr: str) -> dt.date:\n",
    "    return pd.to_datetime(datestr).to_pydatetime().date()\n"
   ]
  },
  {
   "cell_type": "markdown",
   "metadata": {},
   "source": [
    "## Calcula Prazo\n"
   ]
  },
  {
   "cell_type": "code",
   "execution_count": 262,
   "metadata": {},
   "outputs": [],
   "source": [
    "# Função\n",
    "\n",
    "\n",
    "def calcula_prazo(\n",
    "    dt_ini: dt.date, dt_fim: dt.date, feriados: pd.DataFrame, convencao: Convencao\n",
    ") -> float:\n",
    "    \"\"\"\n",
    "    Calcula o prazo de um produto de renda fixa.\n",
    "    Recebe:\n",
    "    dt_ini -> data inicial\n",
    "    dt_fim -> data final\n",
    "    feriados -> lista de feriados\n",
    "    convencao -> convenção de prazo (252 ou 360)\n",
    "\n",
    "    Retorna:\n",
    "    um prazo float\n",
    "    \"\"\"\n",
    "    if not isinstance(dt_ini, dt.date):\n",
    "        # Tenta converter\n",
    "        dt_ini = converte_str_em_data(dt_ini)\n",
    "        if not isinstance(dt_ini, dt.date):\n",
    "            raise TypeError(\n",
    "                f\"Data Inicio informada ({dt_ini}) não é do tipo datetime.date\"\n",
    "            )\n",
    "\n",
    "    if not isinstance(dt_fim, dt.date):\n",
    "        # Tenta converter\n",
    "        dt_fim = converte_str_em_data(dt_fim)\n",
    "        if not isinstance(dt_fim, dt.date):\n",
    "            raise TypeError(\n",
    "                f\"Data fim informada ({dt_fim}) não é do tipo datetime.date\"\n",
    "            )\n",
    "\n",
    "    if dt_fim < dt_ini:\n",
    "        raise ValueError(\n",
    "            f\"Data fim informada ({dt_fim}) deve ser maior do que data inicio ({dt_ini})\"\n",
    "        )\n",
    "    convencao = int(convencao)\n",
    "\n",
    "    if int(convencao) not in get_args(Convencao):\n",
    "        raise TypeError(f\"Convenção informada não é suportada pelo sistema\")\n",
    "\n",
    "    dt_ini = np.datetime64(dt_ini) + 1\n",
    "    dt_fim = np.datetime64(\n",
    "        dt_fim\n",
    "    )  # Não subtrai 1 pois np.busday não conta o ultimo dia\n",
    "\n",
    "    if convencao == 252:\n",
    "        prazo = np.busday_count(\n",
    "            begindates=dt_ini,\n",
    "            enddates=dt_fim,\n",
    "            holidays=feriados,\n",
    "            weekmask=\"Mon Tue Wed Thu Fri\",\n",
    "        )\n",
    "        return prazo / 252\n",
    "    elif convencao == 360:\n",
    "        prazo = (dt_fim - dt_ini) / np.timedelta64(1, \"D\")\n",
    "        return prazo / 360\n"
   ]
  },
  {
   "cell_type": "code",
   "execution_count": 122,
   "metadata": {},
   "outputs": [
    {
     "name": "stdout",
     "output_type": "stream",
     "text": [
      "Teste sucedido!\n"
     ]
    },
    {
     "data": {
      "text/plain": [
       "True"
      ]
     },
     "execution_count": 122,
     "metadata": {},
     "output_type": "execute_result"
    }
   ],
   "source": [
    "# Teste\n",
    "resultado_previsto = 13 / 252\n",
    "\n",
    "dt_ini = dt.date(2022, 6, 10)\n",
    "dt_fim = dt.date(2022, 7, 1)\n",
    "resultado = calcula_prazo(\n",
    "    dt_ini=dt_ini, dt_fim=dt_fim, convencao=\"252\", feriados=feriados_datas\n",
    ")\n",
    "\n",
    "fazTeste(resultado_previsto, resultado)\n"
   ]
  },
  {
   "cell_type": "markdown",
   "metadata": {},
   "source": [
    "## Constrói Fluxo\n"
   ]
  },
  {
   "cell_type": "code",
   "execution_count": 197,
   "metadata": {},
   "outputs": [],
   "source": [
    "# Função\n",
    "\n",
    "\n",
    "def construi_fluxo(dt_ini: dt.date, dt_fim: dt.date, frequencia: str):\n",
    "    \"\"\"Constroi um fluxo de datas a partir de uma data final e uma frequência\n",
    "\n",
    "    Retorna um intervalo de datas\n",
    "    \"\"\"\n",
    "\n",
    "    if np.datetime64(dt_fim) < np.datetime64(dt_ini):\n",
    "        raise ValueError(\"Data de vencimento anterior a data atual\")\n",
    "\n",
    "    # Frequencia pode ser um multiplo. Retiramos os digitos e checamos se é um date offset alias\n",
    "\n",
    "    i = 0\n",
    "    while True:\n",
    "        if not frequencia[i].isdigit():\n",
    "            break\n",
    "        i += 1\n",
    "    if frequencia[i:] not in get_args(Frequencia):\n",
    "        raise TypeError(\n",
    "            \"Frequência recebida não é uma das frequências aceitas\")\n",
    "\n",
    "    date_interval = pd.date_range(\n",
    "        start=dt_ini, end=np.datetime64(dt_fim), freq=frequencia\n",
    "    ).values.astype(\"datetime64[D]\")\n",
    "    diff = date_interval[-1] - np.datetime64(dt_fim)\n",
    "    return [(date - diff) for date in date_interval]\n"
   ]
  },
  {
   "cell_type": "code",
   "execution_count": 200,
   "metadata": {},
   "outputs": [
    {
     "name": "stdout",
     "output_type": "stream",
     "text": [
      "Teste sucedido!\n"
     ]
    },
    {
     "data": {
      "text/plain": [
       "True"
      ]
     },
     "execution_count": 200,
     "metadata": {},
     "output_type": "execute_result"
    }
   ],
   "source": [
    "# Teste\n",
    "resultado_previsto = [\n",
    "    dt.date(2022, 7, 1),\n",
    "    dt.date(2023, 1, 1),\n",
    "    dt.date(2023, 7, 1),\n",
    "    dt.date(2024, 1, 1),\n",
    "    dt.date(2024, 7, 1),\n",
    "    dt.date(2025, 1, 1),\n",
    "    dt.date(2025, 7, 1),\n",
    "    dt.date(2026, 1, 1),\n",
    "    dt.date(2026, 7, 1),\n",
    "    dt.date(2027, 1, 1),\n",
    "]\n",
    "\n",
    "dt_ini = dt.date(2022, 6, 10)\n",
    "dt_fim = dt.date(2027, 1, 1)\n",
    "resultado = construi_fluxo(dt_ini, dt_fim, frequencia=\"6M\")\n",
    "fazTeste(resultado_previsto, resultado)\n"
   ]
  },
  {
   "cell_type": "markdown",
   "metadata": {},
   "source": [
    "## Calcula PU\n"
   ]
  },
  {
   "cell_type": "code",
   "execution_count": 130,
   "metadata": {},
   "outputs": [],
   "source": [
    "# Função\n",
    "def calcula_pu(VF: float, prazo_anual: float, taxa_anual: float) -> float:\n",
    "    \"\"\"Calcula o PU\n",
    "    VF: float\n",
    "    prazo_anual: float\n",
    "    taxa_anual: float\n",
    "\n",
    "    retorno:\n",
    "    PU: float\n",
    "    \"\"\"\n",
    "    return VF / ((1 + taxa_anual) ** (prazo_anual))\n"
   ]
  },
  {
   "cell_type": "code",
   "execution_count": 131,
   "metadata": {},
   "outputs": [
    {
     "name": "stdout",
     "output_type": "stream",
     "text": [
      "Teste sucedido!\n"
     ]
    },
    {
     "data": {
      "text/plain": [
       "True"
      ]
     },
     "execution_count": 131,
     "metadata": {},
     "output_type": "execute_result"
    }
   ],
   "source": [
    "# Testa calcula_pu\n",
    "VF = 48.81\n",
    "prazo_anual = 13 / 252\n",
    "taxa_anual = 0.1265\n",
    "resultado_previsto = 48.51\n",
    "resultado = arredonda(calcula_pu(VF, prazo_anual, taxa_anual), 2)\n",
    "fazTeste(resultado_previsto, resultado)"
   ]
  },
  {
   "cell_type": "markdown",
   "metadata": {},
   "source": [
    "### calcula_taxa_anual\n"
   ]
  },
  {
   "cell_type": "code",
   "execution_count": 132,
   "metadata": {},
   "outputs": [],
   "source": [
    "def calcula_taxa_anual(PU: float, prazo_anual: float, valor_base: float = 100) -> float:\n",
    "    \"\"\"Calcula a taxa anual\n",
    "    PU: float\n",
    "    prazo_anual: float\n",
    "    valor_base: int\n",
    "    \"\"\"\n",
    "\n",
    "    # PU = VF / ((1 + taxa_anual) ** (prazo_anual))\n",
    "    # ((1 + taxa_anual) ** (prazo_anual)) = VF / PU\n",
    "    # 1 + taxa_anual = (VF / PU) ** (1/prazo_anual)\n",
    "\n",
    "    return ((valor_base / PU) ** (1 / prazo_anual)) - 1\n"
   ]
  },
  {
   "cell_type": "code",
   "execution_count": 136,
   "metadata": {},
   "outputs": [
    {
     "name": "stdout",
     "output_type": "stream",
     "text": [
      "Teste sucedido!\n"
     ]
    },
    {
     "data": {
      "text/plain": [
       "True"
      ]
     },
     "execution_count": 136,
     "metadata": {},
     "output_type": "execute_result"
    }
   ],
   "source": [
    "# Testa calcula_taxa_anual\n",
    "VF = 48.81\n",
    "prazo_anual = 13 / 252\n",
    "resultado_previsto = 0.127\n",
    "PU = 48.51\n",
    "resultado = arredonda(calcula_taxa_anual(PU, prazo_anual, VF), 3)\n",
    "fazTeste(resultado_previsto, resultado)"
   ]
  },
  {
   "cell_type": "markdown",
   "metadata": {},
   "source": [
    "## Calcula Pu Ntn-F\n"
   ]
  },
  {
   "cell_type": "code",
   "execution_count": 359,
   "metadata": {},
   "outputs": [],
   "source": [
    "# Função\n",
    "def calcula_pu_ntnf(dt_venc: dt.date, dt_base: dt.date, tir: float, valor_base: float = 1000):\n",
    "    CONVENCAO_DATA = 252\n",
    "    fluxo = sorted(construi_fluxo(dt_base, dt_venc, \"6M\"),reverse=True)\n",
    "\n",
    "    ntnf = pd.DataFrame(fluxo, columns=['Data Fluxo'])\n",
    "    ntnf['Juros'] = arredonda(valor_base * ((1 + 0.1)**(0.5) - 1),4)\n",
    "    ntnf['Amortização'] = np.where(ntnf['Data Fluxo'] == np.datetime64(dt_venc), valor_base, 0)\n",
    "    ntnf['VF'] = ntnf['Juros'] + ntnf['Amortização']\n",
    "    ntnf['Prazo DU'] = ntnf['Data Fluxo'].apply(lambda row: calcula_prazo(dt_base, row.date(), feriados_datas, CONVENCAO_DATA) * CONVENCAO_DATA)\n",
    "    ntnf['FD'] = arredonda((1 + tir) ** (ntnf['Prazo DU'] / CONVENCAO_DATA),9)\n",
    "    ntnf['PU'] = arredonda(ntnf['VF'] / ntnf['FD'],2)\n",
    "\n",
    "    return ntnf"
   ]
  },
  {
   "cell_type": "code",
   "execution_count": 360,
   "metadata": {},
   "outputs": [
    {
     "name": "stdout",
     "output_type": "stream",
     "text": [
      "Teste sucedido!\n"
     ]
    },
    {
     "data": {
      "text/plain": [
       "True"
      ]
     },
     "execution_count": 360,
     "metadata": {},
     "output_type": "execute_result"
    }
   ],
   "source": [
    "# Teste\n",
    "\n",
    "# Dados tirados da planilha da Larissa\n",
    "resultado_previsto = pd.DataFrame({\n",
    "    \"Data Fluxo\": [\n",
    "        dt.date(2027, 1, 1),\n",
    "        dt.date(2026, 7, 1),\n",
    "        dt.date(2026, 1, 1),\n",
    "        dt.date(2025, 7, 1),\n",
    "        dt.date(2025, 1, 1),\n",
    "        dt.date(2024, 7, 1),\n",
    "        dt.date(2024, 1, 1),\n",
    "        dt.date(2023, 7, 1),\n",
    "        dt.date(2023, 1, 1),\n",
    "        dt.date(2022, 7, 1),\n",
    "    ],\n",
    "    \"Juros\": [48.8088] * 10,\n",
    "    \"Amortização\": [1000] + [0] * 9,\n",
    "    \"VF\": [1048.8088] + [48.8088] * 9,\n",
    "    \"Prazo DU\": [1146, 1018, 896, 765, 643, 513, 389, 264, 140, 13],\n",
    "    \"FD\": [1.718912511, 1.617996618, 1.527330912, 1.435625391, 1.355178999, 1.274412243, 1.201862824, 1.132907851, 1.068413959, 1.006163765],\n",
    "    \"PU\": [610.16, 30.17, 31.96, 34.00, 36.02, 38.30, 40.61, 43.08, 45.68, 48.51]\n",
    "})\n",
    "\n",
    "# Ajusta tipos do resultado_previsto\n",
    "resultado_previsto['Data Fluxo'] = resultado_previsto['Data Fluxo'].astype('datetime64[ns]')\n",
    "\n",
    "\n",
    "dt_ini = dt.date(2022, 6, 10)\n",
    "dt_fim = dt.date(2027, 1, 1)\n",
    "tir = 0.1265\n",
    "resultado = calcula_pu_ntnf(dt_fim, dt_ini, tir)\n",
    "fazTeste(resultado_previsto, resultado)"
   ]
  }
 ],
 "metadata": {
  "kernelspec": {
   "display_name": "Python 3.8.2 ('dataScienceDegree')",
   "language": "python",
   "name": "python3"
  },
  "language_info": {
   "codemirror_mode": {
    "name": "ipython",
    "version": 3
   },
   "file_extension": ".py",
   "mimetype": "text/x-python",
   "name": "python",
   "nbconvert_exporter": "python",
   "pygments_lexer": "ipython3",
   "version": "3.8.2"
  },
  "orig_nbformat": 4,
  "vscode": {
   "interpreter": {
    "hash": "92036f3760115f7789357658979a20a15a9e5be439faf5ec3bfb4f238047dbbc"
   }
  }
 },
 "nbformat": 4,
 "nbformat_minor": 2
}
