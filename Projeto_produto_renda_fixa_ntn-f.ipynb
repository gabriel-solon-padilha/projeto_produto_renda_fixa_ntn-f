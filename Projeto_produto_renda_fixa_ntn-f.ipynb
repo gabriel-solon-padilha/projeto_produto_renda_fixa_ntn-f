{
 "cells": [
  {
   "cell_type": "code",
   "execution_count": null,
   "metadata": {},
   "outputs": [],
   "source": [
    "def calcula_pu(VF: float, prazo_anual: float, taxa_anual: float) -> float:\n",
    "    ''' Calcula o PU \n",
    "    VF: float\n",
    "    prazo_anual: float\n",
    "    taxa_anual: float\n",
    "\n",
    "    retorno:\n",
    "    PU: float\n",
    "    '''\n",
    "    return VF / ((1 + taxa_anual)**(prazo_anual))\n",
    "\n",
    "\n",
    "# Teste\n",
    "VF = 48.81\n",
    "prazo_anual = 13/252\n",
    "taxa_anual = 0.1265\n",
    "\n",
    "resultado = calcula_pu(VF,prazo_anual,taxa_anual)\n",
    "print(f'Resultado: {resultado}')\n"
   ]
  },
  {
   "cell_type": "markdown",
   "metadata": {},
   "source": [
    "constroi_fluxo(dt_fim, frequencia)\n",
    "    \n",
    "    - - Retorna: Lista de datas dos fluxos (list datetime.date)\n",
    "\n",
    "calcula_pu(VF, prazo_anual, taxa_anual)\n",
    "    \n",
    "    - - Retorna pu (float)\n",
    "\n",
    "calcula_taxa_anual(PU, prazo_anual, valor_base=100)\n",
    "    \n",
    "    - - Retorna: taxa_anual (float)\n",
    "\n",
    "calcula_pu_ntnf(dt_venc, dt_base, tir) *\n",
    "    \n",
    "    - - Retorna: pu (float)\n",
    "    - Imprime tabela com o cashflow (Data do fluxo, VF, DU, Fator de desconto, PU)"
   ]
  },
  {
   "cell_type": "code",
   "execution_count": 40,
   "metadata": {},
   "outputs": [],
   "source": [
    "import numpy as np\n",
    "import pandas as pd\n",
    "from datetime import datetime\n",
    "\n",
    "\n",
    "feriados = pd.read_csv('feriados/feriados_nacionais.xlsx - Plan1.csv',skiprows=list(range(936,947)),usecols=[0])\n",
    "feriados_datas = pd.to_datetime(feriados['Data'],format='%m/%d/%Y').values.astype('datetime64[D]')\n",
    "\n",
    "\n",
    "def fazTeste(valor_esperado, valor_real) -> bool:\n",
    "    ''' Compara um valor esperado e um valor real\n",
    "    valor_esperado: any\n",
    "    valor_real: any\n",
    "\n",
    "    retorno:\n",
    "    True -> valor_esperado == valor_real\n",
    "    False -> valor_esperado != valor_real\n",
    "    '''\n",
    "\n",
    "    if valor_esperado != valor_real:\n",
    "        print('Teste falhou!')\n",
    "        print('Esperava: {valor_esperado}')\n",
    "        print('Recebeu: {valor_real}')\n",
    "        return False\n",
    "\n",
    "    print('Teste sucedido!')\n",
    "    return True\n",
    "\n",
    "def arredonda(num: float, casas:int=2):\n",
    "    pot10 = 10 ** casas\n",
    "    return round(num * pot10) / pot10\n",
    "\n",
    "\n",
    "def calcula_prazo(dt_ini,dt_fim,feriados,convencao):\n",
    "    \"\"\"\n",
    "    Calcula o prazo de um produto de renda fixa.\n",
    "    Recebe: \n",
    "    dt_ini -> data inicial\n",
    "    dt_fim -> data final\n",
    "    feriados -> lista de feriados\n",
    "    convencao -> convenção de prazo (252 ou 360)\n",
    "    \n",
    "    Retorna:\n",
    "    um prazo float\n",
    "    \"\"\"\n",
    "    dt_ini = np.datetime64(dt_ini) - 1 \n",
    "    dt_fim = np.datetime64(dt_fim) + 1\n",
    "\n",
    "    convencao = int(convencao)\n",
    "\n",
    "    if convencao == 252:\n",
    "        prazo = np.busday_count(begindates=dt_ini,enddates=dt_fim,holidays=feriados)\n",
    "        return prazo/252\n",
    "    elif convencao == 360:\n",
    "        prazo = (dt_fim - dt_ini)/np.timedelta64(1, 'D')\n",
    "        return prazo/360\n",
    "    else:\n",
    "        return 'Convenção inválida'\n",
    "\n",
    "def construi_fluxo(dt_fim,frequencia):\n",
    "    '''Constroi um fluxo de datas a partir de uma data final e uma frequência\n",
    "        \n",
    "        Retorna um intervalo de datas\n",
    "    '''\n",
    "    \n",
    "    if np.datetime64(dt_fim) < np.datetime64(datetime.today()):\n",
    "        return 'Data de vencimento anterior a data atual'\n",
    "    else:\n",
    "        lista_possiveis_freqs = ['B','C','D','W','M','SM','BM','CBM','MS','SMS','BMS','CBMS','Q','BQ','QS','BQS','H','S','N']\n",
    "        if frequencia not in lista_possiveis_freqs:\n",
    "            return 'Frequencia inválida'\n",
    "        else:\n",
    "            date_interval = pd.date_range(start=datetime.today(),end=np.datetime64(dt_fim),freq=frequencia).values.astype('datetime64[D]')\n",
    "            diff = date_interval[-1] - np.datetime64(dt_fim)\n",
    "            return [date - diff for date in date_interval]\n",
    "\n",
    "def calcula_pu(VF: float, prazo_anual: float, taxa_anual: float) -> float:\n",
    "    ''' Calcula o PU \n",
    "    VF: float\n",
    "    prazo_anual: float\n",
    "    taxa_anual: float\n",
    "\n",
    "    retorno:\n",
    "    PU: float\n",
    "    '''\n",
    "    return VF / ((1 + taxa_anual)**(prazo_anual))"
   ]
  },
  {
   "cell_type": "code",
   "execution_count": 41,
   "metadata": {},
   "outputs": [
    {
     "name": "stdout",
     "output_type": "stream",
     "text": [
      "Teste sucedido!\n"
     ]
    },
    {
     "data": {
      "text/plain": [
       "True"
      ]
     },
     "execution_count": 41,
     "metadata": {},
     "output_type": "execute_result"
    }
   ],
   "source": [
    "#Teste prazo\n",
    "calcula_prazo(dt_ini='2019-12-20',dt_fim='2020-01-01',convencao='252',feriados=feriados_datas)\n",
    "\n",
    "#Teste  constroi fluxo\n",
    "construi_fluxo(dt_fim='2023-01-01',frequencia='M')\n",
    "\n",
    "# Testa calcula_pu\n",
    "VF = 48.81\n",
    "prazo_anual = 13/252\n",
    "taxa_anual = 0.1265\n",
    "resultado_previsto = 48.51\n",
    "resultado = arredonda(calcula_pu(VF,prazo_anual,taxa_anual),2)\n",
    "fazTeste(resultado_previsto, resultado)"
   ]
  },
  {
   "cell_type": "code",
   "execution_count": 42,
   "metadata": {},
   "outputs": [
    {
     "data": {
      "text/plain": [
       "array(['2022-07-01', '2022-08-01', '2022-09-01', '2022-10-01',\n",
       "       '2022-11-01', '2022-12-01', '2023-01-01'], dtype='datetime64[D]')"
      ]
     },
     "execution_count": 42,
     "metadata": {},
     "output_type": "execute_result"
    }
   ],
   "source": [
    "#Teste  constroi fluxo\n",
    "construi_fluxo(dt_fim='2023-01-01',frequencia='M')"
   ]
  },
  {
   "cell_type": "code",
   "execution_count": null,
   "metadata": {},
   "outputs": [],
   "source": [
    "np.datetime64('2023-01-01')> np.datetime64(datetime.today())"
   ]
  },
  {
   "cell_type": "code",
   "execution_count": null,
   "metadata": {},
   "outputs": [],
   "source": [
    "from datetime import datetime\n",
    "pd.date_range(start=datetime.today(),end=np.datetime64('2023-01-01'),freq='M').values.astype('datetime64[D]')"
   ]
  },
  {
   "cell_type": "markdown",
   "metadata": {},
   "source": [
    "### Funções Auxiliares"
   ]
  },
  {
   "cell_type": "code",
   "execution_count": null,
   "metadata": {},
   "outputs": [],
   "source": [
    "def fazTeste(valor_esperado, valor_real) -> bool:\n",
    "    ''' Compara um valor esperado e um valor real\n",
    "    valor_esperado: any\n",
    "    valor_real: any\n",
    "\n",
    "    retorno:\n",
    "    True -> valor_esperado == valor_real\n",
    "    False -> valor_esperado != valor_real\n",
    "    '''\n",
    "\n",
    "    if valor_esperado != valor_real:\n",
    "        print('Teste falhou!')\n",
    "        print('Esperava: {valor_esperado}')\n",
    "        print('Recebeu: {valor_real}')\n",
    "        return False\n",
    "\n",
    "    print('Teste sucedido!')\n",
    "    return True\n",
    "\n",
    "def arredonda(num: float, casas:int=2):\n",
    "    pot10 = 10 ** casas\n",
    "    return round(num * pot10) / pot10\n"
   ]
  },
  {
   "cell_type": "markdown",
   "metadata": {},
   "source": [
    "### calcula_pu"
   ]
  },
  {
   "cell_type": "code",
   "execution_count": null,
   "metadata": {},
   "outputs": [],
   "source": [
    "def calcula_pu(VF: float, prazo_anual: float, taxa_anual: float) -> float:\n",
    "    ''' Calcula o PU \n",
    "    VF: float\n",
    "    prazo_anual: float\n",
    "    taxa_anual: float\n",
    "\n",
    "    retorno:\n",
    "    PU: float\n",
    "    '''\n",
    "    return VF / ((1 + taxa_anual)**(prazo_anual))"
   ]
  },
  {
   "cell_type": "code",
   "execution_count": null,
   "metadata": {},
   "outputs": [],
   "source": [
    "# Testa calcula_pu\n",
    "VF = 48.81\n",
    "prazo_anual = 13/252\n",
    "taxa_anual = 0.1265\n",
    "resultado_previsto = 48.51\n",
    "resultado = arredonda(calcula_pu(VF,prazo_anual,taxa_anual),2)\n",
    "fazTeste(resultado_previsto, resultado)\n"
   ]
  },
  {
   "cell_type": "markdown",
   "metadata": {},
   "source": [
    "### calcula_taxa_anual"
   ]
  },
  {
   "cell_type": "code",
   "execution_count": null,
   "metadata": {},
   "outputs": [],
   "source": [
    "def calcula_taxa_anual(PU: float , prazo_anual: float, valor_base: int = 100) -> float:\n",
    "    ''' Calcula a taxa anual\n",
    "    PU: float\n",
    "    prazo_anual: float\n",
    "    valor_base: int\n",
    "    '''\n",
    "    \n",
    "    # PU = (valor_base * ((1 + 0.1)^(1/2) - 1))/(1 + taxa_anual)\n"
   ]
  },
  {
   "cell_type": "code",
   "execution_count": 34,
   "metadata": {},
   "outputs": [
    {
     "data": {
      "text/plain": [
       "array(['2022-06-30', '2022-07-31', '2022-08-31', '2022-09-30',\n",
       "       '2022-10-31', '2022-11-30', '2022-12-31'], dtype='datetime64[D]')"
      ]
     },
     "execution_count": 34,
     "metadata": {},
     "output_type": "execute_result"
    }
   ],
   "source": [
    "#Teste  constroi fluxo\n",
    "construi_fluxo(dt_fim='2023-01-01',frequencia='M')"
   ]
  }
 ],
 "metadata": {
  "kernelspec": {
   "display_name": "Python 3.8.8 ('base')",
   "language": "python",
   "name": "python3"
  },
  "language_info": {
   "codemirror_mode": {
    "name": "ipython",
    "version": 3
   },
   "file_extension": ".py",
   "mimetype": "text/x-python",
   "name": "python",
   "nbconvert_exporter": "python",
   "pygments_lexer": "ipython3",
   "version": "3.8.8"
  },
  "orig_nbformat": 4,
  "vscode": {
   "interpreter": {
    "hash": "f0772a89b7b7552231f8b4808588399a8029470ff763161a0caeccf5fec49431"
   }
  }
 },
 "nbformat": 4,
 "nbformat_minor": 2
}
